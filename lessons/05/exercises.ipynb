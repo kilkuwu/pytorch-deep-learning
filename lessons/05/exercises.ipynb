{
  "cells": [
    {
      "cell_type": "markdown",
      "metadata": {
        "colab_type": "text",
        "id": "view-in-github"
      },
      "source": [
        "<a href=\"https://colab.research.google.com/github/mrdbourke/pytorch-deep-learning/blob/main/extras/exercises/05_pytorch_going_modular_exercise_template.ipynb\" target=\"_parent\"><img src=\"https://colab.research.google.com/assets/colab-badge.svg\" alt=\"Open In Colab\"/></a>"
      ]
    },
    {
      "cell_type": "markdown",
      "metadata": {
        "id": "zNqPNlYylluR"
      },
      "source": [
        "# 05. Bài tập PyTorch Going Modular\n",
        "\n",
        "Chào mừng bạn đến với notebook template bài tập 05. PyTorch Going Modular.\n",
        "\n",
        "Có một số câu hỏi trong notebook này và mục tiêu của bạn là trả lời chúng bằng cách viết code Python và PyTorch.\n",
        "\n",
        "> **Lưu ý:** Có thể có nhiều hơn một giải pháp cho mỗi bài tập, đừng quá lo lắng về câu trả lời *chính xác* tuyệt đối. Hãy cố gắng viết một số code hoạt động trước rồi cải thiện nó nếu có thể.\n",
        "\n",
        "## Tài nguyên và giải pháp\n",
        "\n",
        "* Những bài tập/giải pháp này dựa trên [phần 05. PyTorch Going Modular](https://www.learnpytorch.io/05_pytorch_going_modular/) của khóa học Learn PyTorch for Deep Learning bởi Zero to Mastery.\n",
        "\n",
        "**Giải pháp:** \n",
        "\n",
        "Hãy cố gắng hoàn thành code bên dưới *trước khi* xem những cái này.\n",
        "\n",
        "* Xem [walkthrough trực tiếp của các giải pháp (kể cả lỗi) trên YouTube](https://youtu.be/ijgFhMK3pp4).\n",
        "* Xem ví dụ [notebook giải pháp cho những bài tập này trên GitHub](https://github.com/mrdbourke/pytorch-deep-learning/blob/main/extras/solutions/05_pytorch_going_modular_exercise_solutions.ipynb)."
      ]
    },
    {
      "cell_type": "markdown",
      "metadata": {
        "id": "bicbWSrPmfTU"
      },
      "source": [
        "## 1. Chuyển code để lấy dữ liệu (từ phần 1. Get Data) thành một Python script, chẳng hạn như `get_data.py`.\n",
        "\n",
        "* Khi bạn chạy script bằng `python get_data.py` nó nên kiểm tra xem dữ liệu đã tồn tại chưa và bỏ qua việc tải xuống nếu đã có.\n",
        "* Nếu việc tải xuống dữ liệu thành công, bạn nên có thể truy cập vào các hình ảnh `pizza_steak_sushi` từ thư mục `data`."
      ]
    },
    {
      "cell_type": "code",
      "execution_count": null,
      "metadata": {
        "id": "r0BCn1XIYZ8c"
      },
      "outputs": [],
      "source": [
        "# CODE CỦA BẠN Ở ĐÂY"
      ]
    },
    {
      "cell_type": "code",
      "execution_count": null,
      "metadata": {
        "id": "_LrUOIC-YOP9"
      },
      "outputs": [],
      "source": [
        "# Ví dụ chạy get_data.py\n",
        "!python get_data.py"
      ]
    },
    {
      "cell_type": "markdown",
      "metadata": {
        "id": "zjyn7LU3mvkR"
      },
      "source": [
        "## 2. Sử dụng [module `argparse` của Python](https://docs.python.org/3/library/argparse.html) để có thể gửi các giá trị hyperparameter tùy chỉnh cho `train.py` trong các quy trình huấn luyện.\n",
        "* Thêm argument flag để sử dụng các giá trị khác nhau cho:\n",
        "  * Thư mục training/testing\n",
        "  * Learning rate\n",
        "  * Batch size\n",
        "  * Số epochs để huấn luyện\n",
        "  * Số hidden units trong mô hình TinyVGG\n",
        "    * Giữ các giá trị mặc định cho mỗi argument ở trên như những gì chúng đã có (như trong notebook 05).\n",
        "* Ví dụ, bạn nên có thể chạy một dòng tương tự như sau để huấn luyện mô hình TinyVGG với learning rate là 0.003 và batch size là 64 trong 20 epochs: `python train.py --learning_rate 0.003 batch_size 64 num_epochs 20`.\n",
        "* **Lưu ý:** Vì `train.py` tận dụng các scripts khác mà chúng ta đã tạo trong phần 05, chẳng hạn như `model_builder.py`, `utils.py` và `engine.py`, bạn sẽ phải đảm bảo chúng có sẵn để sử dụng. Bạn có thể tìm thấy chúng trong [thư mục `going_modular` trên GitHub của khóa học](https://github.com/mrdbourke/pytorch-deep-learning/tree/main/going_modular/going_modular)."
      ]
    },
    {
      "cell_type": "code",
      "execution_count": null,
      "metadata": {
        "id": "MKNDUp45YaW-"
      },
      "outputs": [],
      "source": [
        "# CODE CỦA BẠN Ở ĐÂY"
      ]
    },
    {
      "cell_type": "code",
      "execution_count": null,
      "metadata": {
        "id": "LzaJl39lC40N"
      },
      "outputs": [],
      "source": [
        "# Ví dụ chạy train.py\n",
        "!python train.py --num_epochs 5 --batch_size 128 --hidden_units 128 --learning_rate 0.0003"
      ]
    },
    {
      "cell_type": "markdown",
      "metadata": {
        "id": "P2g6EEYvm-46"
      },
      "source": [
        "## 3. Tạo một Python script để dự đoán (chẳng hạn như `predict.py`) trên một hình ảnh mục tiêu được cung cấp đường dẫn tệp với một mô hình đã lưu.\n",
        "\n",
        "* Ví dụ, bạn nên có thể chạy lệnh `python predict.py some_image.jpeg` và có một mô hình PyTorch đã được huấn luyện dự đoán trên hình ảnh và trả về dự đoán của nó.\n",
        "* Để xem code dự đoán mẫu, hãy xem [phần dự đoán trên hình ảnh tùy chỉnh trong notebook 04](https://www.learnpytorch.io/04_pytorch_custom_datasets/#113-putting-custom-image-prediction-together-building-a-function).\n",
        "* Bạn cũng có thể phải viết code để tải một mô hình đã được huấn luyện."
      ]
    },
    {
      "cell_type": "code",
      "execution_count": null,
      "metadata": {
        "id": "HU7W6VZfYawP"
      },
      "outputs": [],
      "source": [
        "# CODE CỦA BẠN Ở ĐÂY"
      ]
    },
    {
      "cell_type": "code",
      "execution_count": null,
      "metadata": {
        "id": "Zcvw9sitIn6r"
      },
      "outputs": [],
      "source": [
        "# Ví dụ chạy predict.py \n",
        "!python predict.py --image data/pizza_steak_sushi/test/sushi/175783.jpg"
      ]
    }
  ],
  "metadata": {
    "accelerator": "GPU",
    "colab": {
      "authorship_tag": "ABX9TyNcX0JATB1YsaAFGNe0TGWq",
      "collapsed_sections": [],
      "include_colab_link": true,
      "name": "05_pytorch_going_modular_exercise_template.ipynb",
      "provenance": []
    },
    "kernelspec": {
      "display_name": "Python 3",
      "name": "python3"
    },
    "language_info": {
      "name": "python"
    }
  },
  "nbformat": 4,
  "nbformat_minor": 0
}
