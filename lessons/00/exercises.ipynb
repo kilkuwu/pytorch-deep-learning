{
  "cells": [
    {
      "cell_type": "markdown",
      "metadata": {},
      "source": [
        "<a href=\"https://colab.research.google.com/github/kilkuwu/pytorch-deep-learning/blob/main/lessons/00/exercises.ipynb\" target=\"_parent\"><img src=\"https://colab.research.google.com/assets/colab-badge.svg\" alt=\"Open in Colab\"/></a>"
      ]
    },
    {
      "cell_type": "markdown",
      "metadata": {
        "id": "AzDBM_v4iMe7"
      },
      "source": [
        "# 00. Bài tập Kiến thức cơ bản PyTorch\n",
        "\n",
        "### 1. Đọc tài liệu\n",
        "\n",
        "Một phần lớn của deep learning (và học lập trình nói chung) là làm quen với tài liệu của framework cụ thể mà bạn đang sử dụng. Chúng ta sẽ sử dụng tài liệu PyTorch rất nhiều trong suốt phần còn lại của khóa học này. Vì vậy tôi khuyên bạn nên dành 10 phút đọc những điều sau (không sao nếu bạn không hiểu một số thứ ngay bây giờ, trọng tâm chưa phải là hiểu đầy đủ mà là nhận thức):\n",
        "  * Tài liệu về [`torch.Tensor`](https://pytorch.org/docs/stable/tensors.html#torch-tensor).\n",
        "  * Tài liệu về [`torch.cuda`](https://pytorch.org/docs/master/notes/cuda.html#cuda-semantics)."
      ]
    },
    {
      "cell_type": "code",
      "execution_count": null,
      "metadata": {
        "id": "bGD0oD8Kizak"
      },
      "outputs": [],
      "source": [
        "# Không có giải pháp code (đọc tài liệu)"
      ]
    },
    {
      "cell_type": "markdown",
      "metadata": {
        "id": "__iXqqz-ioUJ"
      },
      "source": [
        "### 2. Tạo một tensor ngẫu nhiên với shape `(7, 7)`."
      ]
    },
    {
      "cell_type": "code",
      "execution_count": null,
      "metadata": {
        "id": "6pUq9Dc8i2L7"
      },
      "outputs": [],
      "source": [
        "# Import torch\n",
        "\n",
        "# Tạo tensor ngẫu nhiên\n"
      ]
    },
    {
      "cell_type": "markdown",
      "metadata": {
        "id": "9-XxvRLfiqkR"
      },
      "source": [
        "### 3. Thực hiện phép nhân ma trận trên tensor từ bài 2 với một tensor ngẫu nhiên khác có shape `(1, 7)` (gợi ý: bạn có thể phải transpose tensor thứ hai)."
      ]
    },
    {
      "cell_type": "code",
      "execution_count": null,
      "metadata": {
        "id": "NcLqR0Sbi_vT"
      },
      "outputs": [],
      "source": [
        "# Tạo tensor ngẫu nhiên khác\n",
        "\n",
        "# Thực hiện phép nhân ma trận\n"
      ]
    },
    {
      "cell_type": "markdown",
      "metadata": {
        "id": "eiutdKUFiryU"
      },
      "source": [
        "### 4. Đặt random seed thành `0` và làm lại bài 2 & 3.\n",
        "\n",
        "Kết quả đầu ra sẽ là:\n",
        "```\n",
        "(tensor([[1.8542],\n",
        "         [1.9611],\n",
        "         [2.2884],\n",
        "         [3.0481],\n",
        "         [1.7067],\n",
        "         [2.5290],\n",
        "         [1.7989]]), torch.Size([7, 1]))\n",
        "```"
      ]
    },
    {
      "cell_type": "code",
      "execution_count": null,
      "metadata": {
        "id": "D-lOWI_1jRMm"
      },
      "outputs": [],
      "source": [
        "# Đặt manual seed\n",
        "\n",
        "# Tạo hai tensor ngẫu nhiên\n",
        "\n",
        "# Nhân ma trận các tensors\n"
      ]
    },
    {
      "cell_type": "markdown",
      "metadata": {
        "id": "ezY6ks9Cis37"
      },
      "source": [
        "### 5. Nói về random seeds, chúng ta đã thấy cách đặt nó với `torch.manual_seed()` nhưng có tương đương GPU không? (gợi ý: bạn sẽ cần xem vào tài liệu cho `torch.cuda` cho câu này)\n",
        "  * Nếu có, đặt GPU random seed thành `1234`."
      ]
    },
    {
      "cell_type": "code",
      "execution_count": null,
      "metadata": {
        "id": "_LKWcfSTjp00"
      },
      "outputs": [],
      "source": [
        "# Đặt random seed trên GPU\n"
      ]
    },
    {
      "cell_type": "markdown",
      "metadata": {
        "id": "Ir9qSaj6it4n"
      },
      "source": [
        "### 6. Tạo hai tensor ngẫu nhiên có shape `(2, 3)` và gửi cả hai lên GPU (bạn sẽ cần quyền truy cập vào GPU cho việc này). Đặt `torch.manual_seed(1234)` khi tạo tensors (điều này không cần phải là GPU random seed). Kết quả đầu ra sẽ là một cái gì đó như:\n",
        "\n",
        "```\n",
        "Device: cuda\n",
        "(tensor([[0.0290, 0.4019, 0.2598],\n",
        "         [0.3666, 0.0583, 0.7006]], device='cuda:0'),\n",
        " tensor([[0.0518, 0.4681, 0.6738],\n",
        "         [0.3315, 0.7837, 0.5631]], device='cuda:0'))\n",
        "```"
      ]
    },
    {
      "cell_type": "code",
      "execution_count": null,
      "metadata": {
        "id": "azXExiFZj5nm"
      },
      "outputs": [
        {
          "name": "stdout",
          "output_type": "stream",
          "text": [
            "Device: cuda\n"
          ]
        },
        {
          "data": {
            "text/plain": [
              "(tensor([[0.0290, 0.4019, 0.2598],\n",
              "         [0.3666, 0.0583, 0.7006]], device='cuda:0'),\n",
              " tensor([[0.0518, 0.4681, 0.6738],\n",
              "         [0.3315, 0.7837, 0.5631]], device='cuda:0'))"
            ]
          },
          "execution_count": 6,
          "metadata": {},
          "output_type": "execute_result"
        }
      ],
      "source": [
        "# Đặt random seed\n",
        "\n",
        "# Kiểm tra quyền truy cập vào GPU\n",
        "\n",
        "# Tạo hai tensor ngẫu nhiên trên GPU\n"
      ]
    },
    {
      "cell_type": "markdown",
      "metadata": {
        "id": "5TlAxeiSiu1y"
      },
      "source": [
        "### 7. Thực hiện phép nhân ma trận trên các tensors bạn đã tạo ở bài 6 (một lần nữa, bạn có thể phải điều chỉnh shapes của một trong các tensors).\n",
        "\n",
        "Kết quả đầu ra sẽ trông như:\n",
        "```\n",
        "(tensor([[0.3647, 0.4709],\n",
        "         [0.5184, 0.5617]], device='cuda:0'), torch.Size([2, 2]))\n",
        "```"
      ]
    },
    {
      "cell_type": "code",
      "execution_count": null,
      "metadata": {
        "id": "fAeG7ox0lHEO"
      },
      "outputs": [
        {
          "data": {
            "text/plain": [
              "(tensor([[0.3647, 0.4709],\n",
              "         [0.5184, 0.5617]], device='cuda:0'),\n",
              " torch.Size([2, 2]))"
            ]
          },
          "execution_count": 9,
          "metadata": {},
          "output_type": "execute_result"
        }
      ],
      "source": [
        "# Thực hiện matmul trên tensor_A và tensor_B\n"
      ]
    },
    {
      "cell_type": "markdown",
      "metadata": {
        "id": "G7qfa5CSivwg"
      },
      "source": [
        "### 8. Tìm giá trị maximum và minimum của kết quả đầu ra từ bài 7."
      ]
    },
    {
      "cell_type": "code",
      "execution_count": null,
      "metadata": {
        "id": "Fu8_3mZpllOd"
      },
      "outputs": [
        {
          "data": {
            "text/plain": [
              "(tensor(0.5617, device='cuda:0'), tensor(0.3647, device='cuda:0'))"
            ]
          },
          "execution_count": 10,
          "metadata": {},
          "output_type": "execute_result"
        }
      ],
      "source": [
        "# Tìm max\n",
        "\n",
        "# Tìm min\n"
      ]
    },
    {
      "cell_type": "markdown",
      "metadata": {
        "id": "wrTj5FgNiw47"
      },
      "source": [
        "### 9. Tìm các giá trị chỉ mục maximum và minimum của kết quả đầu ra từ bài 7."
      ]
    },
    {
      "cell_type": "code",
      "execution_count": null,
      "metadata": {
        "id": "CCEKt4K2lsfQ"
      },
      "outputs": [
        {
          "data": {
            "text/plain": [
              "(tensor(0, device='cuda:0'), tensor(3, device='cuda:0'))"
            ]
          },
          "execution_count": 11,
          "metadata": {},
          "output_type": "execute_result"
        }
      ],
      "source": [
        "# Tìm arg max\n",
        "\n",
        "# Tìm arg min\n"
      ]
    },
    {
      "cell_type": "markdown",
      "metadata": {
        "id": "hmeybz4uixy7"
      },
      "source": [
        "### 10. Tạo một tensor ngẫu nhiên với shape `(1, 1, 1, 10)` và sau đó tạo một tensor mới với tất cả các chiều `1` được loại bỏ để còn lại một tensor có shape `(10)`. Đặt seed thành `7` khi bạn tạo nó và in ra tensor đầu tiên và shape của nó cũng như tensor thứ hai và shape của nó.\n",
        "\n",
        "Kết quả đầu ra sẽ trông như:\n",
        "\n",
        "```\n",
        "tensor([[[[0.5349, 0.1988, 0.6592, 0.6569, 0.2328, 0.4251, 0.2071, 0.6297,\n",
        "           0.3653, 0.8513]]]]) torch.Size([1, 1, 1, 10])\n",
        "tensor([0.5349, 0.1988, 0.6592, 0.6569, 0.2328, 0.4251, 0.2071, 0.6297, 0.3653,\n",
        "        0.8513]) torch.Size([10])\n",
        "```"
      ]
    },
    {
      "cell_type": "code",
      "execution_count": null,
      "metadata": {
        "id": "TQ9zbRzVl1jV"
      },
      "outputs": [
        {
          "data": {
            "text/plain": [
              "(tensor([[[[0.5349, 0.1988, 0.6592, 0.6569, 0.2328, 0.4251, 0.2071, 0.6297,\n",
              "            0.3653, 0.8513]]]]),\n",
              " torch.Size([1, 1, 1, 10]),\n",
              " tensor([0.5349, 0.1988, 0.6592, 0.6569, 0.2328, 0.4251, 0.2071, 0.6297, 0.3653,\n",
              "         0.8513]),\n",
              " torch.Size([10]))"
            ]
          },
          "execution_count": 12,
          "metadata": {},
          "output_type": "execute_result"
        }
      ],
      "source": [
        "# Đặt seed\n",
        "\n",
        "# Tạo tensor ngẫu nhiên\n",
        "\n",
        "# Loại bỏ các chiều đơn\n",
        "\n",
        "# In ra tensors và shapes của chúng\n"
      ]
    }
  ],
  "metadata": {
    "accelerator": "GPU",
    "colab": {
      "collapsed_sections": [],
      "name": "00_pytorch_fundamentals_exercises.ipynb",
      "provenance": []
    },
    "kernelspec": {
      "display_name": "Python 3",
      "name": "python3"
    },
    "language_info": {
      "codemirror_mode": {
        "name": "ipython",
        "version": 3
      },
      "file_extension": ".py",
      "mimetype": "text/x-python",
      "name": "python",
      "nbconvert_exporter": "python",
      "pygments_lexer": "ipython3",
      "version": "3.12.10"
    }
  },
  "nbformat": 4,
  "nbformat_minor": 0
}
