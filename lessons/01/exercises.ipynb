{
  "cells": [
    {
      "cell_type": "markdown",
      "metadata": {
        "colab_type": "text",
        "id": "view-in-github"
      },
      "source": [
        "<a href=\"https://colab.research.google.com/github/kilkuwu/pytorch-deep-learning/blob/main/lessons/01/exercises.ipynb\" target=\"_parent\"><img src=\"https://colab.research.google.com/assets/colab-badge.svg\" alt=\"Open In Colab\"/></a>"
      ]
    },
    {
      "cell_type": "markdown",
      "metadata": {
        "id": "N8LsPXZti9Sw"
      },
      "source": [
        "# 01. Mẫu Bài Tập PyTorch Workflow\n",
        "\n",
        "Sau đây là mẫu cho các bài tập PyTorch workflow.\n",
        "\n",
        "Đây chỉ là code khởi đầu và nhiệm vụ của bạn là điền vào chỗ trống.\n",
        "\n",
        "Do tính linh hoạt của PyTorch, có thể có nhiều hơn một cách để trả lời câu hỏi.\n",
        "\n",
        "Đừng lo lắng về việc cố gắng trả lời *đúng*, chỉ cần thử viết code đáp ứng được câu hỏi."
      ]
    },
    {
      "cell_type": "code",
      "execution_count": null,
      "metadata": {
        "id": "Glu2fM4dkNlx"
      },
      "outputs": [],
      "source": [
        "# Import necessary libraries\n"
      ]
    },
    {
      "cell_type": "code",
      "execution_count": 2,
      "metadata": {
        "id": "LqKhXY26m31s"
      },
      "outputs": [],
      "source": [
        "# Setup device-agnostic code\n"
      ]
    },
    {
      "cell_type": "markdown",
      "metadata": {
        "id": "g7HUhxCxjeBx"
      },
      "source": [
        "## 1. Tạo một bộ dữ liệu đường thẳng sử dụng công thức hồi quy tuyến tính (`weight * X + bias`).\n",
        "  * Đặt `weight=0.3` và `bias=0.9`, tổng cộng phải có ít nhất 100 điểm dữ liệu. \n",
        "  * Chia dữ liệu thành 80% training, 20% testing.\n",
        "  * Vẽ biểu đồ dữ liệu training và testing để có thể trực quan hóa.\n",
        "\n",
        "Kết quả đầu ra của cell bên dưới sẽ trông giống như thế này:\n",
        "```\n",
        "Number of X samples: 100\n",
        "Number of y samples: 100\n",
        "First 10 X & y samples:\n",
        "X: tensor([0.0000, 0.0100, 0.0200, 0.0300, 0.0400, 0.0500, 0.0600, 0.0700, 0.0800,\n",
        "        0.0900])\n",
        "y: tensor([0.9000, 0.9030, 0.9060, 0.9090, 0.9120, 0.9150, 0.9180, 0.9210, 0.9240,\n",
        "        0.9270])\n",
        "```\n",
        "\n",
        "Tất nhiên các số trong `X` và `y` có thể khác nhau nhưng lý tưởng nhất là chúng được tạo ra sử dụng công thức hồi quy tuyến tính."
      ]
    },
    {
      "cell_type": "code",
      "execution_count": null,
      "metadata": {
        "id": "KbDG5MV7jhvE"
      },
      "outputs": [],
      "source": [
        "# Create the data parameters\n",
        "\n",
        "\n",
        "# Make X and y using linear regression feature\n",
        "\n",
        "print(f\"Number of X samples: {len(X)}\")\n",
        "print(f\"Number of y samples: {len(y)}\")\n",
        "print(f\"First 10 X & y samples:\\nX: {X[:10]}\\ny: {y[:10]}\")"
      ]
    },
    {
      "cell_type": "code",
      "execution_count": null,
      "metadata": {
        "id": "GlwtT1djkmLw"
      },
      "outputs": [],
      "source": [
        "# Split the data into training and testing\n"
      ]
    },
    {
      "cell_type": "code",
      "execution_count": 7,
      "metadata": {
        "id": "29iQZFNhlYJ-"
      },
      "outputs": [
        {
          "data": {
            "image/png": "[encoded data removed]",
            "text/plain": [
              "<Figure size 1000x600 with 1 Axes>"
            ]
          },
          "metadata": {},
          "output_type": "display_data"
        }
      ],
      "source": [
        "# Plot the training and testing data \n",
        "def plot_predictions(X_train=X_train, y_train=y_train, X_test=X_test, y_test=y_test, y_preds=None):\n",
        "    import matplotlib.pyplot as plt\n",
        "    \n",
        "    plt.figure(figsize=(10, 6))\n",
        "    plt.scatter(X_train.cpu(), y_train.cpu(), color='blue', label='Training data')\n",
        "    plt.scatter(X_test.cpu(), y_test.cpu(), color='red', label='Testing data')\n",
        "    if (y_preds is not None):\n",
        "        plt.scatter(X_test.cpu(), y_preds.cpu(), color='green', label='Predictions')\n",
        "    plt.title('Predictions vs Actual Data')\n",
        "    plt.xlabel('X')\n",
        "    plt.ylabel('y')\n",
        "    plt.legend()\n",
        "    plt.show()\n",
        "\n",
        "plot_predictions()"
      ]
    },
    {
      "cell_type": "markdown",
      "metadata": {
        "id": "ImZoe3v8jif8"
      },
      "source": [
        "## 2. Xây dựng một mô hình PyTorch bằng cách kế thừa `nn.Module`.\n",
        "  * Bên trong phải có hai `nn.Parameter()` được khởi tạo ngẫu nhiên với `requires_grad=True`, một cho `weights` và một cho `bias`.\n",
        "  * Triển khai phương thức `forward()` để tính toán hàm hồi quy tuyến tính mà bạn đã sử dụng để tạo bộ dữ liệu ở bài 1.\n",
        "  * Sau khi đã xây dựng mô hình, hãy tạo một instance của nó và kiểm tra `state_dict()` của nó.\n",
        "  * **Lưu ý:** Nếu bạn muốn sử dụng `nn.Linear()` thay vì `nn.Parameter()` thì cũng được."
      ]
    },
    {
      "cell_type": "code",
      "execution_count": null,
      "metadata": {
        "id": "qzd__Y5rjtB8"
      },
      "outputs": [],
      "source": [
        "# Create PyTorch linear regression model by subclassing nn.Module\n"
      ]
    },
    {
      "cell_type": "code",
      "execution_count": null,
      "metadata": {
        "id": "5LdcDnmOmyQ2"
      },
      "outputs": [],
      "source": [
        "# Instantiate the model and put it to the target device, and check its state_dict()\n"
      ]
    },
    {
      "cell_type": "markdown",
      "metadata": {
        "id": "G6nYOrJhjtfu"
      },
      "source": [
        "## 3. Tạo hàm loss và optimizer sử dụng `nn.L1Loss()` và `torch.optim.SGD(params, lr)` tương ứng.\n",
        "  * Đặt learning rate của optimizer là 0.01 và các tham số cần tối ưu hóa phải là các tham số của mô hình bạn đã tạo ở bài 2.\n",
        "  * Viết một vòng lặp training để thực hiện các bước training phù hợp trong 300 epochs.\n",
        "  * Vòng lặp training phải kiểm tra mô hình trên tập dữ liệu test mỗi 20 epochs."
      ]
    },
    {
      "cell_type": "code",
      "execution_count": 3,
      "metadata": {
        "id": "ltvoZ-FWjv1j"
      },
      "outputs": [],
      "source": [
        "# Create the loss function and optimizer\n"
      ]
    },
    {
      "cell_type": "code",
      "execution_count": null,
      "metadata": {
        "id": "xpE83NvNnkdV"
      },
      "outputs": [],
      "source": [
        "# Training loop\n",
        "\n",
        "\n",
        "# Train model for 300 epochs\n",
        "\n",
        "# Send data to target device\n",
        "\n",
        "for epoch in range(epochs):\n",
        "  ### Training\n",
        "\n",
        "  # Put model in train mode\n",
        "\n",
        "  # 1. Forward pass\n",
        "\n",
        "  # 2. Calculate loss\n",
        "\n",
        "  # 3. Zero gradients\n",
        "\n",
        "  # 4. Backpropagation\n",
        "\n",
        "  # 5. Step the optimizer\n",
        "\n",
        "  ### Perform testing every 20 epochs\n",
        "  if epoch % 20 == 0:\n",
        "\n",
        "    # Put model in evaluation mode and setup inference context \n",
        "\n",
        "      # 1. Forward pass\n",
        "      \n",
        "      # 2. Calculate test loss\n",
        "\n",
        "      # Print out what's happening\n",
        "      print(f\"Epoch: {epoch} | Train loss: {loss:.3f} | Test loss: {test_loss:.3f}\")"
      ]
    },
    {
      "cell_type": "markdown",
      "metadata": {
        "id": "x4j4TM18jwa7"
      },
      "source": [
        "## 4. Thực hiện dự đoán với mô hình đã được huấn luyện trên dữ liệu test.\n",
        "  * Trực quan hóa các dự đoán này so với dữ liệu training và testing gốc (**lưu ý:** bạn có thể cần đảm bảo rằng các dự đoán *không* ở trên GPU nếu bạn muốn sử dụng các thư viện không hỗ trợ CUDA như matplotlib để vẽ biểu đồ)."
      ]
    },
    {
      "cell_type": "code",
      "execution_count": null,
      "metadata": {
        "id": "bbMPK5Qjjyx_"
      },
      "outputs": [],
      "source": [
        "# Make predictions with the model\n"
      ]
    },
    {
      "cell_type": "code",
      "execution_count": null,
      "metadata": {
        "id": "K3BdmQaDpFo8"
      },
      "outputs": [],
      "source": [
        "# Plot the predictions (these may need to be on a specific device)\n"
      ]
    },
    {
      "cell_type": "markdown",
      "metadata": {
        "id": "s2OnlMWKjzX8"
      },
      "source": [
        "## 5. Lưu `state_dict()` của mô hình đã huấn luyện vào file.\n",
        "  * Tạo một instance mới của lớp mô hình bạn đã tạo ở bài 2 và load `state_dict()` bạn vừa lưu vào đó.\n",
        "  * Thực hiện dự đoán trên dữ liệu test với mô hình đã load và xác nhận rằng chúng khớp với các dự đoán của mô hình gốc từ bài 4."
      ]
    },
    {
      "cell_type": "code",
      "execution_count": null,
      "metadata": {
        "id": "hgxhgD14qr-i"
      },
      "outputs": [],
      "source": [
        "from pathlib import Path\n",
        "\n",
        "# 1. Create models directory \n",
        "\n",
        "# 2. Create model save path \n",
        "\n",
        "# 3. Save the model state dict\n"
      ]
    },
    {
      "cell_type": "code",
      "execution_count": null,
      "metadata": {
        "id": "P9vTgiLRrJ7T"
      },
      "outputs": [],
      "source": [
        "# Create new instance of model and load saved state dict (make sure to put it on the target device)\n"
      ]
    },
    {
      "cell_type": "code",
      "execution_count": null,
      "metadata": {
        "id": "8UGX3VebrVtI"
      },
      "outputs": [],
      "source": [
        "# Make predictions with loaded model and compare them to the previous\n"
      ]
    }
  ],
  "metadata": {
    "accelerator": "GPU",
    "colab": {
      "authorship_tag": "ABX9TyNYzatJtFkfUqqdiR6rYwVL",
      "collapsed_sections": [],
      "include_colab_link": true,
      "name": "01_pytorch_workflow_exercises.ipynb",
      "provenance": []
    },
    "kernelspec": {
      "display_name": "Python 3",
      "name": "python3"
    },
    "language_info": {
      "codemirror_mode": {
        "name": "ipython",
        "version": 3
      },
      "file_extension": ".py",
      "mimetype": "text/x-python",
      "name": "python",
      "nbconvert_exporter": "python",
      "pygments_lexer": "ipython3",
      "version": "3.12.10"
    }
  },
  "nbformat": 4,
  "nbformat_minor": 0
}
