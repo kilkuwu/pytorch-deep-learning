{
  "cells": [
    {
      "cell_type": "markdown",
      "metadata": {
        "colab_type": "text",
        "id": "view-in-github"
      },
      "source": [
        "<a href=\"https://colab.research.google.com/github/kilkuwu/pytorch-deep-learning/blob/main/lessons/03/exercises.ipynb\" target=\"_parent\"><img src=\"https://colab.research.google.com/assets/colab-badge.svg\" alt=\"Open In Colab\"/></a>"
      ]
    },
    {
      "cell_type": "markdown",
      "metadata": {
        "id": "Vex99np2wFVt"
      },
      "source": [
        "# 03. Bài tập PyTorch Thị giác Máy tính\n",
        "\n",
        "Dưới đây là tập hợp các bài tập dựa trên kiến thức cơ bản về thị giác máy tính trong PyTorch.\n",
        "\n",
        "Chúng rất thú vị.\n",
        "\n",
        "Bạn sẽ được viết rất nhiều code!\n",
        "\n",
        "## Tài nguyên\n",
        "\n",
        "1. Những bài tập này dựa trên [notebook 03 của khóa học Learn PyTorch for Deep Learning](https://www.learnpytorch.io/03_pytorch_computer_vision/). \n",
        "2. Xem [walkthrough trực tiếp của các giải pháp (bao gồm cả lỗi) trên YouTube](https://youtu.be/_PibmqpEyhA). \n",
        "  * **Lưu ý:** Hoàn thành những bài tập này tốn của tôi hơn 3 giờ code liên tục, vậy nên bạn cũng nên kỳ vọng khoảng thời gian tương tự.\n",
        "3. Xem [các giải pháp khác trên GitHub của khóa học](https://github.com/mrdbourke/pytorch-deep-learning/tree/main/extras/solutions)."
      ]
    },
    {
      "cell_type": "code",
      "execution_count": null,
      "metadata": {
        "colab": {
          "base_uri": "https://localhost:8080/"
        },
        "id": "GaeYzOTLwWh2",
        "outputId": "17dd5453-9639-4b01-aa18-7ddbfd5c3253"
      },
      "outputs": [],
      "source": [
        "# Check for GPU\n",
        "!nvidia-smi"
      ]
    },
    {
      "cell_type": "code",
      "execution_count": null,
      "metadata": {
        "colab": {
          "base_uri": "https://localhost:8080/",
          "height": 53
        },
        "id": "DNwZLMbCzJLk",
        "outputId": "9c150c50-a092-4f34-9d33-b45247fb080d"
      },
      "outputs": [],
      "source": [
        "# Import torch\n",
        "import torch\n",
        "\n",
        "# Exercises require PyTorch > 1.10.0\n",
        "print(torch.__version__)\n",
        "\n",
        "# TODO: Setup device agnostic code"
      ]
    },
    {
      "cell_type": "markdown",
      "metadata": {
        "id": "FSFX7tc1w-en"
      },
      "source": [
        "## 1. 3 lĩnh vực trong công nghiệp hiện đang sử dụng thị giác máy tính là gì?"
      ]
    },
    {
      "cell_type": "code",
      "execution_count": null,
      "metadata": {
        "id": "VyWRkvWGbCXj"
      },
      "outputs": [],
      "source": []
    },
    {
      "cell_type": "markdown",
      "metadata": {
        "id": "oBK-WI6YxDYa"
      },
      "source": [
        "## 2. Tìm kiếm \"what is overfitting in machine learning\" và viết ra một câu về những gì bạn tìm thấy."
      ]
    },
    {
      "cell_type": "code",
      "execution_count": null,
      "metadata": {
        "id": "d1rxD6GObCqh"
      },
      "outputs": [],
      "source": []
    },
    {
      "cell_type": "markdown",
      "metadata": {
        "id": "XeYFEqw8xK26"
      },
      "source": [
        "## 3. Tìm kiếm \"ways to prevent overfitting in machine learning\", viết ra 3 điều bạn tìm thấy và một câu về mỗi điều.\n",
        "> **Lưu ý:** có rất nhiều phương pháp, vậy nên đừng lo lắng quá nhiều về tất cả chúng, chỉ cần chọn 3 và bắt đầu với những cái đó."
      ]
    },
    {
      "cell_type": "code",
      "execution_count": null,
      "metadata": {
        "id": "ocvOdWKcbEKr"
      },
      "outputs": [],
      "source": []
    },
    {
      "cell_type": "markdown",
      "metadata": {
        "id": "DKdEEFEqxM-8"
      },
      "source": [
        "## 4. Dành 20 phút đọc và nhấp qua [trang web CNN Explainer](https://poloclub.github.io/cnn-explainer/).\n",
        "\n",
        "* Tải lên hình ảnh ví dụ của riêng bạn bằng nút \"upload\" trên trang web và xem điều gì xảy ra trong mỗi lớp của CNN khi hình ảnh của bạn đi qua nó."
      ]
    },
    {
      "cell_type": "code",
      "execution_count": null,
      "metadata": {
        "id": "TqZaJIRMbFtS"
      },
      "outputs": [],
      "source": []
    },
    {
      "cell_type": "markdown",
      "metadata": {
        "id": "lvf-3pODxXYI"
      },
      "source": [
        "## 5. Tải tập dữ liệu huấn luyện và test [`torchvision.datasets.MNIST()`](https://pytorch.org/vision/stable/generated/torchvision.datasets.MNIST.html#torchvision.datasets.MNIST)."
      ]
    },
    {
      "cell_type": "code",
      "execution_count": null,
      "metadata": {
        "id": "SHjeuN81bHza"
      },
      "outputs": [],
      "source": []
    },
    {
      "cell_type": "markdown",
      "metadata": {
        "id": "qxZW-uAbxe_F"
      },
      "source": [
        "## 6. Trực quan hóa ít nhất 5 mẫu khác nhau của tập dữ liệu huấn luyện MNIST."
      ]
    },
    {
      "cell_type": "code",
      "execution_count": null,
      "metadata": {
        "id": "QVFsYi1PbItE"
      },
      "outputs": [],
      "source": []
    },
    {
      "cell_type": "markdown",
      "metadata": {
        "id": "JAPDzW0wxhi3"
      },
      "source": [
        "## 7. Chuyển đổi tập dữ liệu huấn luyện và test MNIST thành dataloaders bằng `torch.utils.data.DataLoader`, đặt `batch_size=32`."
      ]
    },
    {
      "cell_type": "code",
      "execution_count": null,
      "metadata": {
        "id": "ALA6MPcFbJXQ"
      },
      "outputs": [],
      "source": []
    },
    {
      "cell_type": "markdown",
      "metadata": {
        "id": "bCCVfXk5xjYS"
      },
      "source": [
        "## 8. Tái tạo `model_2` được sử dụng trong notebook 03 (cùng mô hình từ [trang web CNN Explainer](https://poloclub.github.io/cnn-explainer/), còn được gọi là TinyVGG) có khả năng phù hợp với tập dữ liệu MNIST."
      ]
    },
    {
      "cell_type": "code",
      "execution_count": null,
      "metadata": {},
      "outputs": [],
      "source": []
    },
    {
      "cell_type": "code",
      "execution_count": null,
      "metadata": {
        "id": "5IKNF22XbKYS"
      },
      "outputs": [],
      "source": []
    },
    {
      "cell_type": "markdown",
      "metadata": {
        "id": "sf_3zUr7xlhy"
      },
      "source": [
        "## 9. Huấn luyện mô hình bạn đã xây dựng trong bài tập 8. trong 5 epochs trên CPU và GPU và xem mỗi cái mất bao lâu."
      ]
    },
    {
      "cell_type": "code",
      "execution_count": null,
      "metadata": {},
      "outputs": [],
      "source": []
    },
    {
      "cell_type": "markdown",
      "metadata": {
        "id": "w1CsHhPpxp1w"
      },
      "source": [
        "## 10. Thực hiện dự đoán bằng mô hình đã huấn luyện của bạn và trực quan hóa ít nhất 5 trong số chúng so sánh dự đoán với nhãn đích."
      ]
    },
    {
      "cell_type": "code",
      "execution_count": null,
      "metadata": {
        "id": "_YGgZvSobNxu"
      },
      "outputs": [],
      "source": []
    },
    {
      "cell_type": "markdown",
      "metadata": {
        "id": "qQwzqlBWxrpG"
      },
      "source": [
        "## 11. Vẽ ma trận nhầm lẫn so sánh dự đoán của mô hình với nhãn thật."
      ]
    },
    {
      "cell_type": "code",
      "execution_count": null,
      "metadata": {
        "id": "vSrXiT_AbQ6e"
      },
      "outputs": [],
      "source": []
    },
    {
      "cell_type": "markdown",
      "metadata": {
        "id": "lj6bDhoWxt2y"
      },
      "source": [
        "## 12. Tạo một tensor ngẫu nhiên có hình dạng `[1, 3, 64, 64]` và truyền nó qua lớp `nn.Conv2d()` với các cài đặt hyperparameter khác nhau (bạn có thể chọn bất kỳ cài đặt nào), bạn nhận thấy gì nếu tham số `kernel_size` tăng hoặc giảm?"
      ]
    },
    {
      "cell_type": "code",
      "execution_count": null,
      "metadata": {
        "id": "leCTsqtSbR5P"
      },
      "outputs": [],
      "source": []
    },
    {
      "cell_type": "markdown",
      "metadata": {
        "id": "VHS20cNTxwSi"
      },
      "source": [
        "## 13. Sử dụng mô hình tương tự như `model_2` đã huấn luyện từ notebook 03 để thực hiện dự đoán trên tập dữ liệu test [`torchvision.datasets.FashionMNIST`](https://pytorch.org/vision/main/generated/torchvision.datasets.FashionMNIST.html). \n",
        "* Sau đó vẽ một số dự đoán mà mô hình đã sai cùng với nhãn của hình ảnh đáng lẽ phải có. \n",
        "* Sau khi trực quan hóa những dự đoán này, bạn có nghĩ đó là lỗi mô hình hay lỗi dữ liệu không? \n",
        "* Như trong, mô hình có thể làm tốt hơn hay nhãn của dữ liệu quá gần nhau (ví dụ: nhãn \"Shirt\" quá gần với \"T-shirt/top\")?"
      ]
    },
    {
      "cell_type": "code",
      "execution_count": null,
      "metadata": {
        "id": "78a8LjtdbSZj"
      },
      "outputs": [],
      "source": []
    }
  ],
  "metadata": {
    "accelerator": "GPU",
    "colab": {
      "authorship_tag": "ABX9TyMUsDcN/+FAm9Pf7Ifqs6AZ",
      "collapsed_sections": [],
      "include_colab_link": true,
      "name": "03_pytorch_computer_vision_exercises.ipynb",
      "provenance": []
    },
    "kernelspec": {
      "display_name": "Python 3",
      "name": "python3"
    },
    "language_info": {
      "codemirror_mode": {
        "name": "ipython",
        "version": 3
      },
      "file_extension": ".py",
      "mimetype": "text/x-python",
      "name": "python",
      "nbconvert_exporter": "python",
      "pygments_lexer": "ipython3",
      "version": "3.12.10"
    }
  },
  "nbformat": 4,
  "nbformat_minor": 0
}
